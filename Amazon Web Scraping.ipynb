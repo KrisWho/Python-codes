{
 "cells": [
  {
   "cell_type": "code",
   "execution_count": 1,
   "id": "e8f0cfd9",
   "metadata": {},
   "outputs": [],
   "source": [
    "from bs4 import BeautifulSoup\n",
    "import requests \n",
    "import smtplib\n",
    "import time\n",
    "import datetime\n",
    "import csv\n",
    "import pandas as pd\n",
    "\n"
   ]
  },
  {
   "cell_type": "code",
   "execution_count": 2,
   "id": "002af926",
   "metadata": {
    "scrolled": true
   },
   "outputs": [],
   "source": [
    "URL = 'https://www.amazon.ca/Apple-MacBook-Laptop-12%E2%80%91core-18%E2%80%91core/dp/B0CM5BL45N/ref=sr_1_2?crid=Z6HF6GIB7OQW&dib=eyJ2IjoiMSJ9.MKeR3LcKqdfikuh81_yEOto3nV09Owpobyffr_yD5OsK0WvTpjZnuoxEepLmcZJk_nOB8VpSe4uvUpUIkqkoWLNU9YVCdt5vKVBut144eOeAFPn0MTwPgqorSlIbF8ZnIdO700yUJzxQrok6Y8lJ-hIjlktOMN9MgfrIFvvNSdNc3YxbJaWimpU5ZDRbWlM3lnIX0eG-Xt0K1PRw8AnU9pS14aGlnnIYxVPoi4ECGc3Psvvha2djalokgdxmqwOcMA18tReusoeB51VD3rMDkwOfJzpRlPmkJL2Nj2pFBjo.nTtXm3-WUiOy2IVkX7vB2dsIMtrjyuX_NksyIuCopsE&dib_tag=se&keywords=macbook+pro&qid=1715893228&sprefix=macbook+pro%2Caps%2C97&sr=8-2'\n",
    "\n",
    "headers = {\"User-Agent\": \"Mozilla/5.0 (Macintosh; Intel Mac OS X 10_15_7) AppleWebKit/537.36 (KHTML, like Gecko) Chrome/124.0.0.0 Safari/537.36 Edg/124.0.0.0\",\"Accept-Encoding\": \"gzip, deflate, br, zstd\",\"Accept\": \"text/html,application/xhtml+xml,application/xml;q=0.9,image/avif,image/webp,image/apng,*/*;q=0.8,application/signed-exchange;v=b3;q=0.7\",\"DNT\":\"1\",\"Connection\":\"close\",\"Upgrade-Insecure-Requests\": \"1\"}\n",
    "\n",
    "page = requests.get(URL, headers=headers)\n",
    "\n",
    "Soup1 = BeautifulSoup(page.content, \"html.parser\")\n",
    "\n",
    "Soup2 = BeautifulSoup(Soup1.prettify(), \"html.parser\")\n",
    "\n",
    "title = Soup2.find(id='productTitle').get_text()\n",
    "\n",
    "price = Soup2.find(id='corePriceDisplay_desktop_feature_div').get_text()\n"
   ]
  },
  {
   "cell_type": "code",
   "execution_count": 3,
   "id": "963bea96",
   "metadata": {},
   "outputs": [
    {
     "name": "stdout",
     "output_type": "stream",
     "text": [
      "Apple 2023 MacBook Pro Laptop M3 Pro chip with 12‑core CPU, 18‑core GPU: 16.2-inch Liquid Retina XDR Display, 18GB Unified Memory, 512GB SSD Storage. Works with iPhone/iPad; Space Black, English\n",
      "3,299.99\n"
     ]
    }
   ],
   "source": [
    "price_last_dig = price.strip().find(\" \")\n",
    "price = price.strip()[1:price_last_dig]\n",
    "price =price.strip()\n",
    "\n",
    "today = datetime.date.today()\n",
    "\n",
    "title = title.strip()\n",
    "print(title)\n",
    "print(price)"
   ]
  },
  {
   "cell_type": "code",
   "execution_count": 4,
   "id": "f4d24728",
   "metadata": {},
   "outputs": [],
   "source": [
    "header = ['Title','Price','Date']\n",
    "data = [title, price, today]\n",
    "\n",
    "with open('AmazonwebScraper.csv','w', newline='', encoding='UTF8') as f: \n",
    "    writer = csv.writer(f)\n",
    "    writer.writerow(header)\n",
    "    writer.writerow(data)\n",
    "    "
   ]
  },
  {
   "cell_type": "code",
   "execution_count": 5,
   "id": "61f438a7",
   "metadata": {},
   "outputs": [
    {
     "name": "stdout",
     "output_type": "stream",
     "text": [
      "                                               Title     Price        Date\n",
      "0  Apple 2023 MacBook Pro Laptop M3 Pro chip with...  3,299.99  2024-05-16\n"
     ]
    }
   ],
   "source": [
    "df = pd.read_csv(r'/Users/huxingyu/AmazonwebScraper.csv')\n",
    "\n",
    "print(df)\n"
   ]
  },
  {
   "cell_type": "code",
   "execution_count": 6,
   "id": "20ace179",
   "metadata": {},
   "outputs": [],
   "source": [
    "def check_price():\n",
    "    URL = 'https://www.amazon.ca/Apple-MacBook-Laptop-12%E2%80%91core-18%E2%80%91core/dp/B0CM5BL45N/ref=sr_1_2?crid=Z6HF6GIB7OQW&dib=eyJ2IjoiMSJ9.MKeR3LcKqdfikuh81_yEOto3nV09Owpobyffr_yD5OsK0WvTpjZnuoxEepLmcZJk_nOB8VpSe4uvUpUIkqkoWLNU9YVCdt5vKVBut144eOeAFPn0MTwPgqorSlIbF8ZnIdO700yUJzxQrok6Y8lJ-hIjlktOMN9MgfrIFvvNSdNc3YxbJaWimpU5ZDRbWlM3lnIX0eG-Xt0K1PRw8AnU9pS14aGlnnIYxVPoi4ECGc3Psvvha2djalokgdxmqwOcMA18tReusoeB51VD3rMDkwOfJzpRlPmkJL2Nj2pFBjo.nTtXm3-WUiOy2IVkX7vB2dsIMtrjyuX_NksyIuCopsE&dib_tag=se&keywords=macbook+pro&qid=1715893228&sprefix=macbook+pro%2Caps%2C97&sr=8-2'\n",
    "\n",
    "    headers = {\"User-Agent\": \"Mozilla/5.0 (Macintosh; Intel Mac OS X 10_15_7) AppleWebKit/537.36 (KHTML, like Gecko) Chrome/124.0.0.0 Safari/537.36 Edg/124.0.0.0\",\"Accept-Encoding\": \"gzip, deflate, br, zstd\",\"Accept\": \"text/html,application/xhtml+xml,application/xml;q=0.9,image/avif,image/webp,image/apng,*/*;q=0.8,application/signed-exchange;v=b3;q=0.7\",\"DNT\":\"1\",\"Connection\":\"close\",\"Upgrade-Insecure-Requests\": \"1\"}\n",
    "\n",
    "    page = requests.get(URL, headers=headers)\n",
    "\n",
    "    Soup1 = BeautifulSoup(page.content, \"html.parser\")\n",
    "\n",
    "    Soup2 = BeautifulSoup(Soup1.prettify(), \"html.parser\")\n",
    "\n",
    "    title = Soup2.find(id='productTitle').get_text()\n",
    "\n",
    "    price = Soup2.find(id='corePriceDisplay_desktop_feature_div').get_text()\n",
    "    \n",
    "    price_last_dig = price.strip().find(\" \")\n",
    "    price = price.strip()[1:price_last_dig]\n",
    "    price =price.strip()\n",
    "    title = title.strip()\n",
    "    today = datetime.date.today()\n",
    "    \n",
    "    header = ['Title','Price','Date']\n",
    "    data = [title, price, today]\n",
    "    \n",
    "    with open('AmazonwebScraper.csv','a+', newline='', encoding='UTF8') as f: \n",
    "        writer = csv.writer(f)\n",
    "        writer.writerow(data)\n",
    "        \n",
    "    if(price < 3000):\n",
    "        send_mail()"
   ]
  },
  {
   "cell_type": "code",
   "execution_count": null,
   "id": "0fa79657",
   "metadata": {},
   "outputs": [],
   "source": [
    "#check the price everyday\n",
    "while (True):\n",
    "    check_price()\n",
    "    time.sleep(86400)"
   ]
  },
  {
   "cell_type": "code",
   "execution_count": 8,
   "id": "41112209",
   "metadata": {},
   "outputs": [
    {
     "name": "stdout",
     "output_type": "stream",
     "text": [
      "                                               Title     Price        Date\n",
      "0  Apple 2023 MacBook Pro Laptop M3 Pro chip with...  3,299.99  2024-05-16\n",
      "1  Apple 2023 MacBook Pro Laptop M3 Pro chip with...  3,299.99  2024-05-16\n",
      "2  Apple 2023 MacBook Pro Laptop M3 Pro chip with...  3,299.99  2024-05-16\n"
     ]
    }
   ],
   "source": [
    "df = pd.read_csv(r'/Users/huxingyu/AmazonwebScraper.csv')\n",
    "\n",
    "print(df)\n"
   ]
  },
  {
   "cell_type": "code",
   "execution_count": null,
   "id": "c76ccef7",
   "metadata": {},
   "outputs": [],
   "source": [
    "def send_mail():\n",
    "    server = smtplib.SMTP_SSL('smtp.gmail.com',465)\n",
    "    server.ehlo()\n",
    "    #server.starttls()\n",
    "    server.ehlo()\n",
    "    server.login('email.address','password')\n",
    "    \n",
    "    subject = 'The price of the computer is below 3000, don\\'t miss it !'\n",
    "    body = 'Go to Amazon and buy the new Mac!!!'\n",
    "    \n",
    "    msg = f'subject: {subject}\\n\\n\\n{body}'\n",
    "    \n",
    "    server.sendmail('email.address', msg)"
   ]
  }
 ],
 "metadata": {
  "kernelspec": {
   "display_name": "Python 3 (ipykernel)",
   "language": "python",
   "name": "python3"
  },
  "language_info": {
   "codemirror_mode": {
    "name": "ipython",
    "version": 3
   },
   "file_extension": ".py",
   "mimetype": "text/x-python",
   "name": "python",
   "nbconvert_exporter": "python",
   "pygments_lexer": "ipython3",
   "version": "3.11.7"
  }
 },
 "nbformat": 4,
 "nbformat_minor": 5
}
